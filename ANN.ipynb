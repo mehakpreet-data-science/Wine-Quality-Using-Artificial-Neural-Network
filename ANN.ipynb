{
 "cells": [
  {
   "cell_type": "code",
   "execution_count": 1,
   "metadata": {},
   "outputs": [
    {
     "name": "stderr",
     "output_type": "stream",
     "text": [
      "2025-01-28 18:25:41.282129: I tensorflow/core/platform/cpu_feature_guard.cc:193] This TensorFlow binary is optimized with oneAPI Deep Neural Network Library (oneDNN) to use the following CPU instructions in performance-critical operations:  SSE4.1 SSE4.2\n",
      "To enable them in other operations, rebuild TensorFlow with the appropriate compiler flags.\n"
     ]
    }
   ],
   "source": [
    "import pandas as pd\n",
    "import matplotlib.pyplot as plt\n",
    "import numpy as np\n",
    "import seaborn as sns\n",
    "import tensorflow as tf\n",
    "import keras as keras"
   ]
  },
  {
   "cell_type": "code",
   "execution_count": 2,
   "metadata": {},
   "outputs": [],
   "source": [
    "df=pd.read_csv('WineQT.csv')"
   ]
  },
  {
   "cell_type": "code",
   "execution_count": 3,
   "metadata": {},
   "outputs": [
    {
     "data": {
      "text/html": [
       "<div>\n",
       "<style scoped>\n",
       "    .dataframe tbody tr th:only-of-type {\n",
       "        vertical-align: middle;\n",
       "    }\n",
       "\n",
       "    .dataframe tbody tr th {\n",
       "        vertical-align: top;\n",
       "    }\n",
       "\n",
       "    .dataframe thead th {\n",
       "        text-align: right;\n",
       "    }\n",
       "</style>\n",
       "<table border=\"1\" class=\"dataframe\">\n",
       "  <thead>\n",
       "    <tr style=\"text-align: right;\">\n",
       "      <th></th>\n",
       "      <th>fixed acidity</th>\n",
       "      <th>volatile acidity</th>\n",
       "      <th>citric acid</th>\n",
       "      <th>residual sugar</th>\n",
       "      <th>chlorides</th>\n",
       "      <th>free sulfur dioxide</th>\n",
       "      <th>total sulfur dioxide</th>\n",
       "      <th>density</th>\n",
       "      <th>pH</th>\n",
       "      <th>sulphates</th>\n",
       "      <th>alcohol</th>\n",
       "      <th>quality</th>\n",
       "      <th>Id</th>\n",
       "    </tr>\n",
       "  </thead>\n",
       "  <tbody>\n",
       "    <tr>\n",
       "      <th>0</th>\n",
       "      <td>7.4</td>\n",
       "      <td>0.70</td>\n",
       "      <td>0.00</td>\n",
       "      <td>1.9</td>\n",
       "      <td>0.076</td>\n",
       "      <td>11.0</td>\n",
       "      <td>34.0</td>\n",
       "      <td>0.9978</td>\n",
       "      <td>3.51</td>\n",
       "      <td>0.56</td>\n",
       "      <td>9.4</td>\n",
       "      <td>5</td>\n",
       "      <td>0</td>\n",
       "    </tr>\n",
       "    <tr>\n",
       "      <th>1</th>\n",
       "      <td>7.8</td>\n",
       "      <td>0.88</td>\n",
       "      <td>0.00</td>\n",
       "      <td>2.6</td>\n",
       "      <td>0.098</td>\n",
       "      <td>25.0</td>\n",
       "      <td>67.0</td>\n",
       "      <td>0.9968</td>\n",
       "      <td>3.20</td>\n",
       "      <td>0.68</td>\n",
       "      <td>9.8</td>\n",
       "      <td>5</td>\n",
       "      <td>1</td>\n",
       "    </tr>\n",
       "    <tr>\n",
       "      <th>2</th>\n",
       "      <td>7.8</td>\n",
       "      <td>0.76</td>\n",
       "      <td>0.04</td>\n",
       "      <td>2.3</td>\n",
       "      <td>0.092</td>\n",
       "      <td>15.0</td>\n",
       "      <td>54.0</td>\n",
       "      <td>0.9970</td>\n",
       "      <td>3.26</td>\n",
       "      <td>0.65</td>\n",
       "      <td>9.8</td>\n",
       "      <td>5</td>\n",
       "      <td>2</td>\n",
       "    </tr>\n",
       "    <tr>\n",
       "      <th>3</th>\n",
       "      <td>11.2</td>\n",
       "      <td>0.28</td>\n",
       "      <td>0.56</td>\n",
       "      <td>1.9</td>\n",
       "      <td>0.075</td>\n",
       "      <td>17.0</td>\n",
       "      <td>60.0</td>\n",
       "      <td>0.9980</td>\n",
       "      <td>3.16</td>\n",
       "      <td>0.58</td>\n",
       "      <td>9.8</td>\n",
       "      <td>6</td>\n",
       "      <td>3</td>\n",
       "    </tr>\n",
       "    <tr>\n",
       "      <th>4</th>\n",
       "      <td>7.4</td>\n",
       "      <td>0.70</td>\n",
       "      <td>0.00</td>\n",
       "      <td>1.9</td>\n",
       "      <td>0.076</td>\n",
       "      <td>11.0</td>\n",
       "      <td>34.0</td>\n",
       "      <td>0.9978</td>\n",
       "      <td>3.51</td>\n",
       "      <td>0.56</td>\n",
       "      <td>9.4</td>\n",
       "      <td>5</td>\n",
       "      <td>4</td>\n",
       "    </tr>\n",
       "    <tr>\n",
       "      <th>5</th>\n",
       "      <td>7.4</td>\n",
       "      <td>0.66</td>\n",
       "      <td>0.00</td>\n",
       "      <td>1.8</td>\n",
       "      <td>0.075</td>\n",
       "      <td>13.0</td>\n",
       "      <td>40.0</td>\n",
       "      <td>0.9978</td>\n",
       "      <td>3.51</td>\n",
       "      <td>0.56</td>\n",
       "      <td>9.4</td>\n",
       "      <td>5</td>\n",
       "      <td>5</td>\n",
       "    </tr>\n",
       "    <tr>\n",
       "      <th>6</th>\n",
       "      <td>7.9</td>\n",
       "      <td>0.60</td>\n",
       "      <td>0.06</td>\n",
       "      <td>1.6</td>\n",
       "      <td>0.069</td>\n",
       "      <td>15.0</td>\n",
       "      <td>59.0</td>\n",
       "      <td>0.9964</td>\n",
       "      <td>3.30</td>\n",
       "      <td>0.46</td>\n",
       "      <td>9.4</td>\n",
       "      <td>5</td>\n",
       "      <td>6</td>\n",
       "    </tr>\n",
       "    <tr>\n",
       "      <th>7</th>\n",
       "      <td>7.3</td>\n",
       "      <td>0.65</td>\n",
       "      <td>0.00</td>\n",
       "      <td>1.2</td>\n",
       "      <td>0.065</td>\n",
       "      <td>15.0</td>\n",
       "      <td>21.0</td>\n",
       "      <td>0.9946</td>\n",
       "      <td>3.39</td>\n",
       "      <td>0.47</td>\n",
       "      <td>10.0</td>\n",
       "      <td>7</td>\n",
       "      <td>7</td>\n",
       "    </tr>\n",
       "    <tr>\n",
       "      <th>8</th>\n",
       "      <td>7.8</td>\n",
       "      <td>0.58</td>\n",
       "      <td>0.02</td>\n",
       "      <td>2.0</td>\n",
       "      <td>0.073</td>\n",
       "      <td>9.0</td>\n",
       "      <td>18.0</td>\n",
       "      <td>0.9968</td>\n",
       "      <td>3.36</td>\n",
       "      <td>0.57</td>\n",
       "      <td>9.5</td>\n",
       "      <td>7</td>\n",
       "      <td>8</td>\n",
       "    </tr>\n",
       "    <tr>\n",
       "      <th>9</th>\n",
       "      <td>6.7</td>\n",
       "      <td>0.58</td>\n",
       "      <td>0.08</td>\n",
       "      <td>1.8</td>\n",
       "      <td>0.097</td>\n",
       "      <td>15.0</td>\n",
       "      <td>65.0</td>\n",
       "      <td>0.9959</td>\n",
       "      <td>3.28</td>\n",
       "      <td>0.54</td>\n",
       "      <td>9.2</td>\n",
       "      <td>5</td>\n",
       "      <td>10</td>\n",
       "    </tr>\n",
       "  </tbody>\n",
       "</table>\n",
       "</div>"
      ],
      "text/plain": [
       "   fixed acidity  volatile acidity  citric acid  residual sugar  chlorides  \\\n",
       "0            7.4              0.70         0.00             1.9      0.076   \n",
       "1            7.8              0.88         0.00             2.6      0.098   \n",
       "2            7.8              0.76         0.04             2.3      0.092   \n",
       "3           11.2              0.28         0.56             1.9      0.075   \n",
       "4            7.4              0.70         0.00             1.9      0.076   \n",
       "5            7.4              0.66         0.00             1.8      0.075   \n",
       "6            7.9              0.60         0.06             1.6      0.069   \n",
       "7            7.3              0.65         0.00             1.2      0.065   \n",
       "8            7.8              0.58         0.02             2.0      0.073   \n",
       "9            6.7              0.58         0.08             1.8      0.097   \n",
       "\n",
       "   free sulfur dioxide  total sulfur dioxide  density    pH  sulphates  \\\n",
       "0                 11.0                  34.0   0.9978  3.51       0.56   \n",
       "1                 25.0                  67.0   0.9968  3.20       0.68   \n",
       "2                 15.0                  54.0   0.9970  3.26       0.65   \n",
       "3                 17.0                  60.0   0.9980  3.16       0.58   \n",
       "4                 11.0                  34.0   0.9978  3.51       0.56   \n",
       "5                 13.0                  40.0   0.9978  3.51       0.56   \n",
       "6                 15.0                  59.0   0.9964  3.30       0.46   \n",
       "7                 15.0                  21.0   0.9946  3.39       0.47   \n",
       "8                  9.0                  18.0   0.9968  3.36       0.57   \n",
       "9                 15.0                  65.0   0.9959  3.28       0.54   \n",
       "\n",
       "   alcohol  quality  Id  \n",
       "0      9.4        5   0  \n",
       "1      9.8        5   1  \n",
       "2      9.8        5   2  \n",
       "3      9.8        6   3  \n",
       "4      9.4        5   4  \n",
       "5      9.4        5   5  \n",
       "6      9.4        5   6  \n",
       "7     10.0        7   7  \n",
       "8      9.5        7   8  \n",
       "9      9.2        5  10  "
      ]
     },
     "execution_count": 3,
     "metadata": {},
     "output_type": "execute_result"
    }
   ],
   "source": [
    "df.head(10)"
   ]
  },
  {
   "cell_type": "code",
   "execution_count": 4,
   "metadata": {},
   "outputs": [],
   "source": [
    "X=df.drop(columns=['quality','Id'],axis=1)\n",
    "Y=df['quality']\n"
   ]
  },
  {
   "cell_type": "code",
   "execution_count": 5,
   "metadata": {},
   "outputs": [],
   "source": [
    "from sklearn.model_selection import train_test_split\n",
    "X_TRAIN,X_TEST,Y_TRAIN,Y_TEST=train_test_split(X,Y,test_size=0.2,random_state=10)"
   ]
  },
  {
   "cell_type": "code",
   "execution_count": 6,
   "metadata": {},
   "outputs": [],
   "source": [
    "from sklearn.preprocessing import StandardScaler\n",
    "SC=StandardScaler()\n",
    "X_TRAIN=SC.fit_transform(X_TRAIN)\n",
    "X_TEST=SC.transform(X_TEST)"
   ]
  },
  {
   "cell_type": "code",
   "execution_count": 7,
   "metadata": {},
   "outputs": [
    {
     "name": "stderr",
     "output_type": "stream",
     "text": [
      "2025-01-28 18:25:44.270702: I tensorflow/core/platform/cpu_feature_guard.cc:193] This TensorFlow binary is optimized with oneAPI Deep Neural Network Library (oneDNN) to use the following CPU instructions in performance-critical operations:  SSE4.1 SSE4.2\n",
      "To enable them in other operations, rebuild TensorFlow with the appropriate compiler flags.\n"
     ]
    }
   ],
   "source": [
    "ann=tf.keras.models.Sequential()"
   ]
  },
  {
   "cell_type": "code",
   "execution_count": 8,
   "metadata": {},
   "outputs": [],
   "source": [
    "ann.add(tf.keras.layers.Dense(units=32,input_dim=X_TRAIN.shape[1],activation='relu'))"
   ]
  },
  {
   "cell_type": "code",
   "execution_count": 9,
   "metadata": {},
   "outputs": [],
   "source": [
    "ann.add(tf.keras.layers.Dense(units=64,activation='relu'))"
   ]
  },
  {
   "cell_type": "code",
   "execution_count": 10,
   "metadata": {},
   "outputs": [],
   "source": [
    "ann.add(tf.keras.layers.Dense(units=64,activation='relu'))"
   ]
  },
  {
   "cell_type": "code",
   "execution_count": 11,
   "metadata": {},
   "outputs": [],
   "source": [
    "ann.add(tf.keras.layers.Dense(units=1))"
   ]
  },
  {
   "cell_type": "code",
   "execution_count": 12,
   "metadata": {},
   "outputs": [],
   "source": [
    "ann.compile(optimizer='adam',loss='mean_squared_error',metrics=['mae'])"
   ]
  },
  {
   "cell_type": "code",
   "execution_count": 13,
   "metadata": {},
   "outputs": [
    {
     "name": "stdout",
     "output_type": "stream",
     "text": [
      "Epoch 1/50\n",
      "29/29 [==============================] - 0s 5ms/step - loss: 20.2924 - mae: 4.2902 - val_loss: 8.2359 - val_mae: 2.6006\n",
      "Epoch 2/50\n",
      "29/29 [==============================] - 0s 2ms/step - loss: 4.8175 - mae: 1.7262 - val_loss: 3.2443 - val_mae: 1.4667\n",
      "Epoch 3/50\n",
      "29/29 [==============================] - 0s 2ms/step - loss: 2.4950 - mae: 1.2424 - val_loss: 2.6194 - val_mae: 1.3016\n",
      "Epoch 4/50\n",
      "29/29 [==============================] - 0s 2ms/step - loss: 2.0082 - mae: 1.1167 - val_loss: 2.2226 - val_mae: 1.1993\n",
      "Epoch 5/50\n",
      "29/29 [==============================] - 0s 2ms/step - loss: 1.6888 - mae: 1.0314 - val_loss: 1.9530 - val_mae: 1.1217\n",
      "Epoch 6/50\n",
      "29/29 [==============================] - 0s 2ms/step - loss: 1.4662 - mae: 0.9657 - val_loss: 1.7818 - val_mae: 1.0743\n",
      "Epoch 7/50\n",
      "29/29 [==============================] - 0s 2ms/step - loss: 1.2739 - mae: 0.9006 - val_loss: 1.5332 - val_mae: 0.9766\n",
      "Epoch 8/50\n",
      "29/29 [==============================] - 0s 2ms/step - loss: 1.1193 - mae: 0.8416 - val_loss: 1.3810 - val_mae: 0.9325\n",
      "Epoch 9/50\n",
      "29/29 [==============================] - 0s 2ms/step - loss: 1.0083 - mae: 0.7960 - val_loss: 1.2280 - val_mae: 0.8673\n",
      "Epoch 10/50\n",
      "29/29 [==============================] - 0s 2ms/step - loss: 0.8837 - mae: 0.7437 - val_loss: 1.1032 - val_mae: 0.8230\n",
      "Epoch 11/50\n",
      "29/29 [==============================] - 0s 2ms/step - loss: 0.7979 - mae: 0.7007 - val_loss: 0.9847 - val_mae: 0.7760\n",
      "Epoch 12/50\n",
      "29/29 [==============================] - 0s 2ms/step - loss: 0.7275 - mae: 0.6709 - val_loss: 0.8893 - val_mae: 0.7338\n",
      "Epoch 13/50\n",
      "29/29 [==============================] - 0s 1ms/step - loss: 0.6473 - mae: 0.6337 - val_loss: 0.8096 - val_mae: 0.6983\n",
      "Epoch 14/50\n",
      "29/29 [==============================] - 0s 2ms/step - loss: 0.5971 - mae: 0.6073 - val_loss: 0.7471 - val_mae: 0.6607\n",
      "Epoch 15/50\n",
      "29/29 [==============================] - 0s 1ms/step - loss: 0.5634 - mae: 0.5860 - val_loss: 0.7125 - val_mae: 0.6551\n",
      "Epoch 16/50\n",
      "29/29 [==============================] - 0s 2ms/step - loss: 0.5203 - mae: 0.5638 - val_loss: 0.6359 - val_mae: 0.6072\n",
      "Epoch 17/50\n",
      "29/29 [==============================] - 0s 2ms/step - loss: 0.4837 - mae: 0.5425 - val_loss: 0.6135 - val_mae: 0.6027\n",
      "Epoch 18/50\n",
      "29/29 [==============================] - 0s 2ms/step - loss: 0.4632 - mae: 0.5350 - val_loss: 0.5835 - val_mae: 0.5801\n",
      "Epoch 19/50\n",
      "29/29 [==============================] - 0s 2ms/step - loss: 0.4431 - mae: 0.5150 - val_loss: 0.5737 - val_mae: 0.5887\n",
      "Epoch 20/50\n",
      "29/29 [==============================] - 0s 1ms/step - loss: 0.4359 - mae: 0.5164 - val_loss: 0.5593 - val_mae: 0.5807\n",
      "Epoch 21/50\n",
      "29/29 [==============================] - 0s 2ms/step - loss: 0.4073 - mae: 0.4981 - val_loss: 0.5371 - val_mae: 0.5593\n",
      "Epoch 22/50\n",
      "29/29 [==============================] - 0s 2ms/step - loss: 0.3913 - mae: 0.4841 - val_loss: 0.5184 - val_mae: 0.5528\n",
      "Epoch 23/50\n",
      "29/29 [==============================] - 0s 2ms/step - loss: 0.3872 - mae: 0.4848 - val_loss: 0.5028 - val_mae: 0.5449\n",
      "Epoch 24/50\n",
      "29/29 [==============================] - 0s 1ms/step - loss: 0.3636 - mae: 0.4687 - val_loss: 0.4983 - val_mae: 0.5396\n",
      "Epoch 25/50\n",
      "29/29 [==============================] - 0s 2ms/step - loss: 0.3564 - mae: 0.4672 - val_loss: 0.5038 - val_mae: 0.5492\n",
      "Epoch 26/50\n",
      "29/29 [==============================] - 0s 2ms/step - loss: 0.3536 - mae: 0.4616 - val_loss: 0.4980 - val_mae: 0.5432\n",
      "Epoch 27/50\n",
      "29/29 [==============================] - 0s 1ms/step - loss: 0.3424 - mae: 0.4571 - val_loss: 0.4785 - val_mae: 0.5345\n",
      "Epoch 28/50\n",
      "29/29 [==============================] - 0s 2ms/step - loss: 0.3287 - mae: 0.4432 - val_loss: 0.5034 - val_mae: 0.5541\n",
      "Epoch 29/50\n",
      "29/29 [==============================] - 0s 1ms/step - loss: 0.3288 - mae: 0.4460 - val_loss: 0.4801 - val_mae: 0.5361\n",
      "Epoch 30/50\n",
      "29/29 [==============================] - 0s 1ms/step - loss: 0.3177 - mae: 0.4383 - val_loss: 0.4787 - val_mae: 0.5353\n",
      "Epoch 31/50\n",
      "29/29 [==============================] - 0s 1ms/step - loss: 0.3166 - mae: 0.4390 - val_loss: 0.4688 - val_mae: 0.5301\n",
      "Epoch 32/50\n",
      "29/29 [==============================] - 0s 1ms/step - loss: 0.3064 - mae: 0.4304 - val_loss: 0.4643 - val_mae: 0.5286\n",
      "Epoch 33/50\n",
      "29/29 [==============================] - 0s 2ms/step - loss: 0.3061 - mae: 0.4306 - val_loss: 0.4747 - val_mae: 0.5355\n",
      "Epoch 34/50\n",
      "29/29 [==============================] - 0s 1ms/step - loss: 0.3028 - mae: 0.4286 - val_loss: 0.4592 - val_mae: 0.5267\n",
      "Epoch 35/50\n",
      "29/29 [==============================] - 0s 1ms/step - loss: 0.2964 - mae: 0.4211 - val_loss: 0.4855 - val_mae: 0.5497\n",
      "Epoch 36/50\n",
      "29/29 [==============================] - 0s 1ms/step - loss: 0.2933 - mae: 0.4168 - val_loss: 0.4704 - val_mae: 0.5361\n",
      "Epoch 37/50\n",
      "29/29 [==============================] - 0s 1ms/step - loss: 0.2910 - mae: 0.4185 - val_loss: 0.4550 - val_mae: 0.5204\n",
      "Epoch 38/50\n",
      "29/29 [==============================] - 0s 2ms/step - loss: 0.2787 - mae: 0.4084 - val_loss: 0.4908 - val_mae: 0.5461\n",
      "Epoch 39/50\n",
      "29/29 [==============================] - 0s 2ms/step - loss: 0.2984 - mae: 0.4266 - val_loss: 0.4787 - val_mae: 0.5496\n",
      "Epoch 40/50\n",
      "29/29 [==============================] - 0s 1ms/step - loss: 0.2829 - mae: 0.4140 - val_loss: 0.4686 - val_mae: 0.5289\n",
      "Epoch 41/50\n",
      "29/29 [==============================] - 0s 2ms/step - loss: 0.2743 - mae: 0.4051 - val_loss: 0.4556 - val_mae: 0.5267\n",
      "Epoch 42/50\n",
      "29/29 [==============================] - 0s 1ms/step - loss: 0.2694 - mae: 0.4033 - val_loss: 0.4680 - val_mae: 0.5395\n",
      "Epoch 43/50\n",
      "29/29 [==============================] - 0s 2ms/step - loss: 0.2678 - mae: 0.3986 - val_loss: 0.4568 - val_mae: 0.5299\n",
      "Epoch 44/50\n",
      "29/29 [==============================] - 0s 1ms/step - loss: 0.2759 - mae: 0.4052 - val_loss: 0.4587 - val_mae: 0.5281\n",
      "Epoch 45/50\n",
      "29/29 [==============================] - 0s 1ms/step - loss: 0.2618 - mae: 0.3953 - val_loss: 0.4629 - val_mae: 0.5325\n",
      "Epoch 46/50\n",
      "29/29 [==============================] - 0s 1ms/step - loss: 0.2679 - mae: 0.4018 - val_loss: 0.4605 - val_mae: 0.5304\n",
      "Epoch 47/50\n",
      "29/29 [==============================] - 0s 1ms/step - loss: 0.2639 - mae: 0.3971 - val_loss: 0.4536 - val_mae: 0.5289\n",
      "Epoch 48/50\n",
      "29/29 [==============================] - 0s 2ms/step - loss: 0.2645 - mae: 0.3982 - val_loss: 0.4584 - val_mae: 0.5223\n",
      "Epoch 49/50\n",
      "29/29 [==============================] - 0s 1ms/step - loss: 0.2545 - mae: 0.3897 - val_loss: 0.4770 - val_mae: 0.5436\n",
      "Epoch 50/50\n",
      "29/29 [==============================] - 0s 2ms/step - loss: 0.2482 - mae: 0.3799 - val_loss: 0.4476 - val_mae: 0.5189\n"
     ]
    },
    {
     "data": {
      "text/plain": [
       "<keras.callbacks.History at 0x7fca4da5fd90>"
      ]
     },
     "execution_count": 13,
     "metadata": {},
     "output_type": "execute_result"
    }
   ],
   "source": [
    "ann.fit(X_TRAIN,Y_TRAIN,batch_size=32,epochs=50 ,validation_data=[X_TEST,Y_TEST])"
   ]
  },
  {
   "cell_type": "code",
   "execution_count": 14,
   "metadata": {},
   "outputs": [
    {
     "data": {
      "text/html": [
       "<div>\n",
       "<style scoped>\n",
       "    .dataframe tbody tr th:only-of-type {\n",
       "        vertical-align: middle;\n",
       "    }\n",
       "\n",
       "    .dataframe tbody tr th {\n",
       "        vertical-align: top;\n",
       "    }\n",
       "\n",
       "    .dataframe thead th {\n",
       "        text-align: right;\n",
       "    }\n",
       "</style>\n",
       "<table border=\"1\" class=\"dataframe\">\n",
       "  <thead>\n",
       "    <tr style=\"text-align: right;\">\n",
       "      <th></th>\n",
       "      <th>fixed acidity</th>\n",
       "      <th>volatile acidity</th>\n",
       "      <th>citric acid</th>\n",
       "      <th>residual sugar</th>\n",
       "      <th>chlorides</th>\n",
       "      <th>free sulfur dioxide</th>\n",
       "      <th>total sulfur dioxide</th>\n",
       "      <th>density</th>\n",
       "      <th>pH</th>\n",
       "      <th>sulphates</th>\n",
       "      <th>alcohol</th>\n",
       "      <th>quality</th>\n",
       "      <th>Id</th>\n",
       "    </tr>\n",
       "  </thead>\n",
       "  <tbody>\n",
       "    <tr>\n",
       "      <th>0</th>\n",
       "      <td>7.4</td>\n",
       "      <td>0.7</td>\n",
       "      <td>0.0</td>\n",
       "      <td>1.9</td>\n",
       "      <td>0.076</td>\n",
       "      <td>11.0</td>\n",
       "      <td>34.0</td>\n",
       "      <td>0.9978</td>\n",
       "      <td>3.51</td>\n",
       "      <td>0.56</td>\n",
       "      <td>9.4</td>\n",
       "      <td>5</td>\n",
       "      <td>0</td>\n",
       "    </tr>\n",
       "  </tbody>\n",
       "</table>\n",
       "</div>"
      ],
      "text/plain": [
       "   fixed acidity  volatile acidity  citric acid  residual sugar  chlorides  \\\n",
       "0            7.4               0.7          0.0             1.9      0.076   \n",
       "\n",
       "   free sulfur dioxide  total sulfur dioxide  density    pH  sulphates  \\\n",
       "0                 11.0                  34.0   0.9978  3.51       0.56   \n",
       "\n",
       "   alcohol  quality  Id  \n",
       "0      9.4        5   0  "
      ]
     },
     "execution_count": 14,
     "metadata": {},
     "output_type": "execute_result"
    }
   ],
   "source": [
    "df.head(1)"
   ]
  },
  {
   "cell_type": "code",
   "execution_count": 15,
   "metadata": {},
   "outputs": [
    {
     "name": "stdout",
     "output_type": "stream",
     "text": [
      "1/1 [==============================] - 0s 60ms/step\n",
      "[[4.8679457]]\n"
     ]
    },
    {
     "name": "stderr",
     "output_type": "stream",
     "text": [
      "/opt/anaconda3/lib/python3.8/site-packages/sklearn/base.py:450: UserWarning: X does not have valid feature names, but StandardScaler was fitted with feature names\n",
      "  warnings.warn(\n"
     ]
    }
   ],
   "source": [
    "i1_1=([[7.4,0.7,0.0,1.9,0.076,11.0,34.0,0.9978,3.51,0.56,9.4]])\n",
    "sC_in=SC.transform(i1_1)\n",
    "predict=ann.predict(sC_in)\n",
    "print(predict)"
   ]
  },
  {
   "cell_type": "code",
   "execution_count": 16,
   "metadata": {},
   "outputs": [
    {
     "name": "stdout",
     "output_type": "stream",
     "text": [
      "8/8 [==============================] - 0s 673us/step - loss: 0.4476 - mae: 0.5189\n"
     ]
    },
    {
     "data": {
      "text/plain": [
       "Index(['fixed acidity', 'volatile acidity', 'citric acid', 'residual sugar',\n",
       "       'chlorides', 'free sulfur dioxide', 'total sulfur dioxide', 'density',\n",
       "       'pH', 'sulphates', 'alcohol', 'quality', 'Id'],\n",
       "      dtype='object')"
      ]
     },
     "execution_count": 16,
     "metadata": {},
     "output_type": "execute_result"
    }
   ],
   "source": [
    "evA_1=ann.evaluate(X_TEST,Y_TEST)\n",
    "df.columns"
   ]
  },
  {
   "cell_type": "code",
   "execution_count": 21,
   "metadata": {},
   "outputs": [
    {
     "name": "stdout",
     "output_type": "stream",
     "text": [
      "1/1 [==============================] - 0s 20ms/step\n",
      "[[19.461336]]\n"
     ]
    }
   ],
   "source": [
    "output_1 = []\n",
    "for i in df.columns:\n",
    "    if i != 'quality' and i != 'Id': \n",
    "        value = float(input(f'ENTER THE VALUE FOR {i}: '))  # 'input' should not be overwritten\n",
    "        output_1.append(value)\n",
    "\n",
    "df_input = pd.DataFrame([output_1], columns=[i for i in df.columns if i != 'quality' and i != 'Id'])\n",
    "\n",
    "predict = ann.predict(df_input)\n",
    "print(predict)\n"
   ]
  },
  {
   "cell_type": "code",
   "execution_count": null,
   "metadata": {},
   "outputs": [],
   "source": []
  },
  {
   "cell_type": "code",
   "execution_count": null,
   "metadata": {},
   "outputs": [],
   "source": []
  }
 ],
 "metadata": {
  "kernelspec": {
   "display_name": "base",
   "language": "python",
   "name": "python3"
  },
  "language_info": {
   "codemirror_mode": {
    "name": "ipython",
    "version": 3
   },
   "file_extension": ".py",
   "mimetype": "text/x-python",
   "name": "python",
   "nbconvert_exporter": "python",
   "pygments_lexer": "ipython3",
   "version": "3.8.8"
  }
 },
 "nbformat": 4,
 "nbformat_minor": 2
}
